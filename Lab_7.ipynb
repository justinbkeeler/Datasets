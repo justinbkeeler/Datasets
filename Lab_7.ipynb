{
  "nbformat": 4,
  "nbformat_minor": 0,
  "metadata": {
    "colab": {
      "provenance": [],
      "toc_visible": true,
      "authorship_tag": "ABX9TyPLUA3IudMQ8SbpQdyIkI7z",
      "include_colab_link": true
    },
    "kernelspec": {
      "name": "python3",
      "display_name": "Python 3"
    },
    "language_info": {
      "name": "python"
    }
  },
  "cells": [
    {
      "cell_type": "markdown",
      "metadata": {
        "id": "view-in-github",
        "colab_type": "text"
      },
      "source": [
        "<a href=\"https://colab.research.google.com/github/justinbkeeler/Datasets/blob/main/Lab_7.ipynb\" target=\"_parent\"><img src=\"https://colab.research.google.com/assets/colab-badge.svg\" alt=\"Open In Colab\"/></a>"
      ]
    },
    {
      "cell_type": "markdown",
      "source": [
        "# Load Libraries"
      ],
      "metadata": {
        "id": "CzvmDyms7_Qy"
      }
    },
    {
      "cell_type": "code",
      "execution_count": 1,
      "metadata": {
        "id": "snsj_R0Ff5pa"
      },
      "outputs": [],
      "source": [
        "import pandas as pd\n",
        "import numpy as np\n",
        "import statsmodels.api as sm"
      ]
    },
    {
      "cell_type": "markdown",
      "source": [
        "# Load Data"
      ],
      "metadata": {
        "id": "s4_KFvQr8Dk_"
      }
    },
    {
      "cell_type": "code",
      "source": [
        "url = \"https://raw.githubusercontent.com/justinbkeeler/Datasets/refs/heads/main/usedcarsUSA.csv\"\n",
        "cars = pd.read_csv(url)"
      ],
      "metadata": {
        "id": "RSnuRSymf_IN"
      },
      "execution_count": 38,
      "outputs": []
    },
    {
      "cell_type": "markdown",
      "source": [
        "Load text file from Chatper 7 of your textbook Authors."
      ],
      "metadata": {
        "id": "cFJwvqN_hqM2"
      }
    },
    {
      "cell_type": "code",
      "source": [
        "url2 = \"https://raw.githubusercontent.com/justinbkeeler/Datasets/refs/heads/main/customer%20sample%20data%20(simple%20linear%20regression).txt\"\n",
        "df = pd.read_csv(url2)"
      ],
      "metadata": {
        "id": "QcAis11Rfvv3"
      },
      "execution_count": null,
      "outputs": []
    },
    {
      "cell_type": "code",
      "source": [
        "df.describe()"
      ],
      "metadata": {
        "colab": {
          "base_uri": "https://localhost:8080/",
          "height": 175
        },
        "id": "L25ioo8YgNGq",
        "outputId": "9bf785c7-4132-4615-9a7b-ad2818b8397c"
      },
      "execution_count": null,
      "outputs": [
        {
          "output_type": "execute_result",
          "data": {
            "text/plain": [
              "       100 10\n",
              "count      20\n",
              "unique     20\n",
              "top      82 8\n",
              "freq        1"
            ],
            "text/html": [
              "\n",
              "  <div id=\"df-7448cd09-46c3-427c-81aa-466bb60df714\" class=\"colab-df-container\">\n",
              "    <div>\n",
              "<style scoped>\n",
              "    .dataframe tbody tr th:only-of-type {\n",
              "        vertical-align: middle;\n",
              "    }\n",
              "\n",
              "    .dataframe tbody tr th {\n",
              "        vertical-align: top;\n",
              "    }\n",
              "\n",
              "    .dataframe thead th {\n",
              "        text-align: right;\n",
              "    }\n",
              "</style>\n",
              "<table border=\"1\" class=\"dataframe\">\n",
              "  <thead>\n",
              "    <tr style=\"text-align: right;\">\n",
              "      <th></th>\n",
              "      <th>100 10</th>\n",
              "    </tr>\n",
              "  </thead>\n",
              "  <tbody>\n",
              "    <tr>\n",
              "      <th>count</th>\n",
              "      <td>20</td>\n",
              "    </tr>\n",
              "    <tr>\n",
              "      <th>unique</th>\n",
              "      <td>20</td>\n",
              "    </tr>\n",
              "    <tr>\n",
              "      <th>top</th>\n",
              "      <td>82 8</td>\n",
              "    </tr>\n",
              "    <tr>\n",
              "      <th>freq</th>\n",
              "      <td>1</td>\n",
              "    </tr>\n",
              "  </tbody>\n",
              "</table>\n",
              "</div>\n",
              "    <div class=\"colab-df-buttons\">\n",
              "\n",
              "  <div class=\"colab-df-container\">\n",
              "    <button class=\"colab-df-convert\" onclick=\"convertToInteractive('df-7448cd09-46c3-427c-81aa-466bb60df714')\"\n",
              "            title=\"Convert this dataframe to an interactive table.\"\n",
              "            style=\"display:none;\">\n",
              "\n",
              "  <svg xmlns=\"http://www.w3.org/2000/svg\" height=\"24px\" viewBox=\"0 -960 960 960\">\n",
              "    <path d=\"M120-120v-720h720v720H120Zm60-500h600v-160H180v160Zm220 220h160v-160H400v160Zm0 220h160v-160H400v160ZM180-400h160v-160H180v160Zm440 0h160v-160H620v160ZM180-180h160v-160H180v160Zm440 0h160v-160H620v160Z\"/>\n",
              "  </svg>\n",
              "    </button>\n",
              "\n",
              "  <style>\n",
              "    .colab-df-container {\n",
              "      display:flex;\n",
              "      gap: 12px;\n",
              "    }\n",
              "\n",
              "    .colab-df-convert {\n",
              "      background-color: #E8F0FE;\n",
              "      border: none;\n",
              "      border-radius: 50%;\n",
              "      cursor: pointer;\n",
              "      display: none;\n",
              "      fill: #1967D2;\n",
              "      height: 32px;\n",
              "      padding: 0 0 0 0;\n",
              "      width: 32px;\n",
              "    }\n",
              "\n",
              "    .colab-df-convert:hover {\n",
              "      background-color: #E2EBFA;\n",
              "      box-shadow: 0px 1px 2px rgba(60, 64, 67, 0.3), 0px 1px 3px 1px rgba(60, 64, 67, 0.15);\n",
              "      fill: #174EA6;\n",
              "    }\n",
              "\n",
              "    .colab-df-buttons div {\n",
              "      margin-bottom: 4px;\n",
              "    }\n",
              "\n",
              "    [theme=dark] .colab-df-convert {\n",
              "      background-color: #3B4455;\n",
              "      fill: #D2E3FC;\n",
              "    }\n",
              "\n",
              "    [theme=dark] .colab-df-convert:hover {\n",
              "      background-color: #434B5C;\n",
              "      box-shadow: 0px 1px 3px 1px rgba(0, 0, 0, 0.15);\n",
              "      filter: drop-shadow(0px 1px 2px rgba(0, 0, 0, 0.3));\n",
              "      fill: #FFFFFF;\n",
              "    }\n",
              "  </style>\n",
              "\n",
              "    <script>\n",
              "      const buttonEl =\n",
              "        document.querySelector('#df-7448cd09-46c3-427c-81aa-466bb60df714 button.colab-df-convert');\n",
              "      buttonEl.style.display =\n",
              "        google.colab.kernel.accessAllowed ? 'block' : 'none';\n",
              "\n",
              "      async function convertToInteractive(key) {\n",
              "        const element = document.querySelector('#df-7448cd09-46c3-427c-81aa-466bb60df714');\n",
              "        const dataTable =\n",
              "          await google.colab.kernel.invokeFunction('convertToInteractive',\n",
              "                                                    [key], {});\n",
              "        if (!dataTable) return;\n",
              "\n",
              "        const docLinkHtml = 'Like what you see? Visit the ' +\n",
              "          '<a target=\"_blank\" href=https://colab.research.google.com/notebooks/data_table.ipynb>data table notebook</a>'\n",
              "          + ' to learn more about interactive tables.';\n",
              "        element.innerHTML = '';\n",
              "        dataTable['output_type'] = 'display_data';\n",
              "        await google.colab.output.renderOutput(dataTable, element);\n",
              "        const docLink = document.createElement('div');\n",
              "        docLink.innerHTML = docLinkHtml;\n",
              "        element.appendChild(docLink);\n",
              "      }\n",
              "    </script>\n",
              "  </div>\n",
              "\n",
              "\n",
              "<div id=\"df-eb6e3fb6-4c5e-42f3-bbf7-28fcef6c17d4\">\n",
              "  <button class=\"colab-df-quickchart\" onclick=\"quickchart('df-eb6e3fb6-4c5e-42f3-bbf7-28fcef6c17d4')\"\n",
              "            title=\"Suggest charts\"\n",
              "            style=\"display:none;\">\n",
              "\n",
              "<svg xmlns=\"http://www.w3.org/2000/svg\" height=\"24px\"viewBox=\"0 0 24 24\"\n",
              "     width=\"24px\">\n",
              "    <g>\n",
              "        <path d=\"M19 3H5c-1.1 0-2 .9-2 2v14c0 1.1.9 2 2 2h14c1.1 0 2-.9 2-2V5c0-1.1-.9-2-2-2zM9 17H7v-7h2v7zm4 0h-2V7h2v10zm4 0h-2v-4h2v4z\"/>\n",
              "    </g>\n",
              "</svg>\n",
              "  </button>\n",
              "\n",
              "<style>\n",
              "  .colab-df-quickchart {\n",
              "      --bg-color: #E8F0FE;\n",
              "      --fill-color: #1967D2;\n",
              "      --hover-bg-color: #E2EBFA;\n",
              "      --hover-fill-color: #174EA6;\n",
              "      --disabled-fill-color: #AAA;\n",
              "      --disabled-bg-color: #DDD;\n",
              "  }\n",
              "\n",
              "  [theme=dark] .colab-df-quickchart {\n",
              "      --bg-color: #3B4455;\n",
              "      --fill-color: #D2E3FC;\n",
              "      --hover-bg-color: #434B5C;\n",
              "      --hover-fill-color: #FFFFFF;\n",
              "      --disabled-bg-color: #3B4455;\n",
              "      --disabled-fill-color: #666;\n",
              "  }\n",
              "\n",
              "  .colab-df-quickchart {\n",
              "    background-color: var(--bg-color);\n",
              "    border: none;\n",
              "    border-radius: 50%;\n",
              "    cursor: pointer;\n",
              "    display: none;\n",
              "    fill: var(--fill-color);\n",
              "    height: 32px;\n",
              "    padding: 0;\n",
              "    width: 32px;\n",
              "  }\n",
              "\n",
              "  .colab-df-quickchart:hover {\n",
              "    background-color: var(--hover-bg-color);\n",
              "    box-shadow: 0 1px 2px rgba(60, 64, 67, 0.3), 0 1px 3px 1px rgba(60, 64, 67, 0.15);\n",
              "    fill: var(--button-hover-fill-color);\n",
              "  }\n",
              "\n",
              "  .colab-df-quickchart-complete:disabled,\n",
              "  .colab-df-quickchart-complete:disabled:hover {\n",
              "    background-color: var(--disabled-bg-color);\n",
              "    fill: var(--disabled-fill-color);\n",
              "    box-shadow: none;\n",
              "  }\n",
              "\n",
              "  .colab-df-spinner {\n",
              "    border: 2px solid var(--fill-color);\n",
              "    border-color: transparent;\n",
              "    border-bottom-color: var(--fill-color);\n",
              "    animation:\n",
              "      spin 1s steps(1) infinite;\n",
              "  }\n",
              "\n",
              "  @keyframes spin {\n",
              "    0% {\n",
              "      border-color: transparent;\n",
              "      border-bottom-color: var(--fill-color);\n",
              "      border-left-color: var(--fill-color);\n",
              "    }\n",
              "    20% {\n",
              "      border-color: transparent;\n",
              "      border-left-color: var(--fill-color);\n",
              "      border-top-color: var(--fill-color);\n",
              "    }\n",
              "    30% {\n",
              "      border-color: transparent;\n",
              "      border-left-color: var(--fill-color);\n",
              "      border-top-color: var(--fill-color);\n",
              "      border-right-color: var(--fill-color);\n",
              "    }\n",
              "    40% {\n",
              "      border-color: transparent;\n",
              "      border-right-color: var(--fill-color);\n",
              "      border-top-color: var(--fill-color);\n",
              "    }\n",
              "    60% {\n",
              "      border-color: transparent;\n",
              "      border-right-color: var(--fill-color);\n",
              "    }\n",
              "    80% {\n",
              "      border-color: transparent;\n",
              "      border-right-color: var(--fill-color);\n",
              "      border-bottom-color: var(--fill-color);\n",
              "    }\n",
              "    90% {\n",
              "      border-color: transparent;\n",
              "      border-bottom-color: var(--fill-color);\n",
              "    }\n",
              "  }\n",
              "</style>\n",
              "\n",
              "  <script>\n",
              "    async function quickchart(key) {\n",
              "      const quickchartButtonEl =\n",
              "        document.querySelector('#' + key + ' button');\n",
              "      quickchartButtonEl.disabled = true;  // To prevent multiple clicks.\n",
              "      quickchartButtonEl.classList.add('colab-df-spinner');\n",
              "      try {\n",
              "        const charts = await google.colab.kernel.invokeFunction(\n",
              "            'suggestCharts', [key], {});\n",
              "      } catch (error) {\n",
              "        console.error('Error during call to suggestCharts:', error);\n",
              "      }\n",
              "      quickchartButtonEl.classList.remove('colab-df-spinner');\n",
              "      quickchartButtonEl.classList.add('colab-df-quickchart-complete');\n",
              "    }\n",
              "    (() => {\n",
              "      let quickchartButtonEl =\n",
              "        document.querySelector('#df-eb6e3fb6-4c5e-42f3-bbf7-28fcef6c17d4 button');\n",
              "      quickchartButtonEl.style.display =\n",
              "        google.colab.kernel.accessAllowed ? 'block' : 'none';\n",
              "    })();\n",
              "  </script>\n",
              "</div>\n",
              "\n",
              "    </div>\n",
              "  </div>\n"
            ],
            "application/vnd.google.colaboratory.intrinsic+json": {
              "type": "dataframe",
              "summary": "{\n  \"name\": \"df\",\n  \"rows\": 4,\n  \"fields\": [\n    {\n      \"column\": \"100 10\",\n      \"properties\": {\n        \"dtype\": \"date\",\n        \"min\": \"1970-01-01 00:00:00.000000001\",\n        \"max\": \"1982-08-01 00:00:00\",\n        \"num_unique_values\": 3,\n        \"samples\": [\n          \"20\",\n          \"82 8\",\n          \"1\"\n        ],\n        \"semantic_type\": \"\",\n        \"description\": \"\"\n      }\n    }\n  ]\n}"
            }
          },
          "metadata": {},
          "execution_count": 38
        }
      ]
    },
    {
      "cell_type": "markdown",
      "source": [
        "Need to make adjustments to the text file from the textbook author, I'll explain in class."
      ],
      "metadata": {
        "id": "USOCWgJDhgWq"
      }
    },
    {
      "cell_type": "code",
      "source": [
        "df = pd.read_csv(url2, names = ['Sales_Effort', 'Product_Sales'], sep= ' ')\n",
        "df"
      ],
      "metadata": {
        "colab": {
          "base_uri": "https://localhost:8080/",
          "height": 708
        },
        "collapsed": true,
        "id": "c3ocr47ng-2X",
        "outputId": "abf28511-2ebe-4bd3-f914-cc01dbd917c3"
      },
      "execution_count": null,
      "outputs": [
        {
          "output_type": "execute_result",
          "data": {
            "text/plain": [
              "    Sales_Effort  Product_Sales\n",
              "0            100             10\n",
              "1             82              8\n",
              "2             71              7\n",
              "3            111             11\n",
              "4            112             11\n",
              "5             61              6\n",
              "6             62              6\n",
              "7            113             11\n",
              "8            101             10\n",
              "9             99             10\n",
              "10            79              8\n",
              "11            81              8\n",
              "12            51              5\n",
              "13            50              5\n",
              "14            49              5\n",
              "15            30              3\n",
              "16            31              3\n",
              "17            29              3\n",
              "18            20              2\n",
              "19            41              4\n",
              "20            39              4"
            ],
            "text/html": [
              "\n",
              "  <div id=\"df-ab29279f-4b99-494c-84d4-372fb1db2e53\" class=\"colab-df-container\">\n",
              "    <div>\n",
              "<style scoped>\n",
              "    .dataframe tbody tr th:only-of-type {\n",
              "        vertical-align: middle;\n",
              "    }\n",
              "\n",
              "    .dataframe tbody tr th {\n",
              "        vertical-align: top;\n",
              "    }\n",
              "\n",
              "    .dataframe thead th {\n",
              "        text-align: right;\n",
              "    }\n",
              "</style>\n",
              "<table border=\"1\" class=\"dataframe\">\n",
              "  <thead>\n",
              "    <tr style=\"text-align: right;\">\n",
              "      <th></th>\n",
              "      <th>Sales_Effort</th>\n",
              "      <th>Product_Sales</th>\n",
              "    </tr>\n",
              "  </thead>\n",
              "  <tbody>\n",
              "    <tr>\n",
              "      <th>0</th>\n",
              "      <td>100</td>\n",
              "      <td>10</td>\n",
              "    </tr>\n",
              "    <tr>\n",
              "      <th>1</th>\n",
              "      <td>82</td>\n",
              "      <td>8</td>\n",
              "    </tr>\n",
              "    <tr>\n",
              "      <th>2</th>\n",
              "      <td>71</td>\n",
              "      <td>7</td>\n",
              "    </tr>\n",
              "    <tr>\n",
              "      <th>3</th>\n",
              "      <td>111</td>\n",
              "      <td>11</td>\n",
              "    </tr>\n",
              "    <tr>\n",
              "      <th>4</th>\n",
              "      <td>112</td>\n",
              "      <td>11</td>\n",
              "    </tr>\n",
              "    <tr>\n",
              "      <th>5</th>\n",
              "      <td>61</td>\n",
              "      <td>6</td>\n",
              "    </tr>\n",
              "    <tr>\n",
              "      <th>6</th>\n",
              "      <td>62</td>\n",
              "      <td>6</td>\n",
              "    </tr>\n",
              "    <tr>\n",
              "      <th>7</th>\n",
              "      <td>113</td>\n",
              "      <td>11</td>\n",
              "    </tr>\n",
              "    <tr>\n",
              "      <th>8</th>\n",
              "      <td>101</td>\n",
              "      <td>10</td>\n",
              "    </tr>\n",
              "    <tr>\n",
              "      <th>9</th>\n",
              "      <td>99</td>\n",
              "      <td>10</td>\n",
              "    </tr>\n",
              "    <tr>\n",
              "      <th>10</th>\n",
              "      <td>79</td>\n",
              "      <td>8</td>\n",
              "    </tr>\n",
              "    <tr>\n",
              "      <th>11</th>\n",
              "      <td>81</td>\n",
              "      <td>8</td>\n",
              "    </tr>\n",
              "    <tr>\n",
              "      <th>12</th>\n",
              "      <td>51</td>\n",
              "      <td>5</td>\n",
              "    </tr>\n",
              "    <tr>\n",
              "      <th>13</th>\n",
              "      <td>50</td>\n",
              "      <td>5</td>\n",
              "    </tr>\n",
              "    <tr>\n",
              "      <th>14</th>\n",
              "      <td>49</td>\n",
              "      <td>5</td>\n",
              "    </tr>\n",
              "    <tr>\n",
              "      <th>15</th>\n",
              "      <td>30</td>\n",
              "      <td>3</td>\n",
              "    </tr>\n",
              "    <tr>\n",
              "      <th>16</th>\n",
              "      <td>31</td>\n",
              "      <td>3</td>\n",
              "    </tr>\n",
              "    <tr>\n",
              "      <th>17</th>\n",
              "      <td>29</td>\n",
              "      <td>3</td>\n",
              "    </tr>\n",
              "    <tr>\n",
              "      <th>18</th>\n",
              "      <td>20</td>\n",
              "      <td>2</td>\n",
              "    </tr>\n",
              "    <tr>\n",
              "      <th>19</th>\n",
              "      <td>41</td>\n",
              "      <td>4</td>\n",
              "    </tr>\n",
              "    <tr>\n",
              "      <th>20</th>\n",
              "      <td>39</td>\n",
              "      <td>4</td>\n",
              "    </tr>\n",
              "  </tbody>\n",
              "</table>\n",
              "</div>\n",
              "    <div class=\"colab-df-buttons\">\n",
              "\n",
              "  <div class=\"colab-df-container\">\n",
              "    <button class=\"colab-df-convert\" onclick=\"convertToInteractive('df-ab29279f-4b99-494c-84d4-372fb1db2e53')\"\n",
              "            title=\"Convert this dataframe to an interactive table.\"\n",
              "            style=\"display:none;\">\n",
              "\n",
              "  <svg xmlns=\"http://www.w3.org/2000/svg\" height=\"24px\" viewBox=\"0 -960 960 960\">\n",
              "    <path d=\"M120-120v-720h720v720H120Zm60-500h600v-160H180v160Zm220 220h160v-160H400v160Zm0 220h160v-160H400v160ZM180-400h160v-160H180v160Zm440 0h160v-160H620v160ZM180-180h160v-160H180v160Zm440 0h160v-160H620v160Z\"/>\n",
              "  </svg>\n",
              "    </button>\n",
              "\n",
              "  <style>\n",
              "    .colab-df-container {\n",
              "      display:flex;\n",
              "      gap: 12px;\n",
              "    }\n",
              "\n",
              "    .colab-df-convert {\n",
              "      background-color: #E8F0FE;\n",
              "      border: none;\n",
              "      border-radius: 50%;\n",
              "      cursor: pointer;\n",
              "      display: none;\n",
              "      fill: #1967D2;\n",
              "      height: 32px;\n",
              "      padding: 0 0 0 0;\n",
              "      width: 32px;\n",
              "    }\n",
              "\n",
              "    .colab-df-convert:hover {\n",
              "      background-color: #E2EBFA;\n",
              "      box-shadow: 0px 1px 2px rgba(60, 64, 67, 0.3), 0px 1px 3px 1px rgba(60, 64, 67, 0.15);\n",
              "      fill: #174EA6;\n",
              "    }\n",
              "\n",
              "    .colab-df-buttons div {\n",
              "      margin-bottom: 4px;\n",
              "    }\n",
              "\n",
              "    [theme=dark] .colab-df-convert {\n",
              "      background-color: #3B4455;\n",
              "      fill: #D2E3FC;\n",
              "    }\n",
              "\n",
              "    [theme=dark] .colab-df-convert:hover {\n",
              "      background-color: #434B5C;\n",
              "      box-shadow: 0px 1px 3px 1px rgba(0, 0, 0, 0.15);\n",
              "      filter: drop-shadow(0px 1px 2px rgba(0, 0, 0, 0.3));\n",
              "      fill: #FFFFFF;\n",
              "    }\n",
              "  </style>\n",
              "\n",
              "    <script>\n",
              "      const buttonEl =\n",
              "        document.querySelector('#df-ab29279f-4b99-494c-84d4-372fb1db2e53 button.colab-df-convert');\n",
              "      buttonEl.style.display =\n",
              "        google.colab.kernel.accessAllowed ? 'block' : 'none';\n",
              "\n",
              "      async function convertToInteractive(key) {\n",
              "        const element = document.querySelector('#df-ab29279f-4b99-494c-84d4-372fb1db2e53');\n",
              "        const dataTable =\n",
              "          await google.colab.kernel.invokeFunction('convertToInteractive',\n",
              "                                                    [key], {});\n",
              "        if (!dataTable) return;\n",
              "\n",
              "        const docLinkHtml = 'Like what you see? Visit the ' +\n",
              "          '<a target=\"_blank\" href=https://colab.research.google.com/notebooks/data_table.ipynb>data table notebook</a>'\n",
              "          + ' to learn more about interactive tables.';\n",
              "        element.innerHTML = '';\n",
              "        dataTable['output_type'] = 'display_data';\n",
              "        await google.colab.output.renderOutput(dataTable, element);\n",
              "        const docLink = document.createElement('div');\n",
              "        docLink.innerHTML = docLinkHtml;\n",
              "        element.appendChild(docLink);\n",
              "      }\n",
              "    </script>\n",
              "  </div>\n",
              "\n",
              "\n",
              "<div id=\"df-1cce8b8d-db79-4099-a7f9-41d474df8fc3\">\n",
              "  <button class=\"colab-df-quickchart\" onclick=\"quickchart('df-1cce8b8d-db79-4099-a7f9-41d474df8fc3')\"\n",
              "            title=\"Suggest charts\"\n",
              "            style=\"display:none;\">\n",
              "\n",
              "<svg xmlns=\"http://www.w3.org/2000/svg\" height=\"24px\"viewBox=\"0 0 24 24\"\n",
              "     width=\"24px\">\n",
              "    <g>\n",
              "        <path d=\"M19 3H5c-1.1 0-2 .9-2 2v14c0 1.1.9 2 2 2h14c1.1 0 2-.9 2-2V5c0-1.1-.9-2-2-2zM9 17H7v-7h2v7zm4 0h-2V7h2v10zm4 0h-2v-4h2v4z\"/>\n",
              "    </g>\n",
              "</svg>\n",
              "  </button>\n",
              "\n",
              "<style>\n",
              "  .colab-df-quickchart {\n",
              "      --bg-color: #E8F0FE;\n",
              "      --fill-color: #1967D2;\n",
              "      --hover-bg-color: #E2EBFA;\n",
              "      --hover-fill-color: #174EA6;\n",
              "      --disabled-fill-color: #AAA;\n",
              "      --disabled-bg-color: #DDD;\n",
              "  }\n",
              "\n",
              "  [theme=dark] .colab-df-quickchart {\n",
              "      --bg-color: #3B4455;\n",
              "      --fill-color: #D2E3FC;\n",
              "      --hover-bg-color: #434B5C;\n",
              "      --hover-fill-color: #FFFFFF;\n",
              "      --disabled-bg-color: #3B4455;\n",
              "      --disabled-fill-color: #666;\n",
              "  }\n",
              "\n",
              "  .colab-df-quickchart {\n",
              "    background-color: var(--bg-color);\n",
              "    border: none;\n",
              "    border-radius: 50%;\n",
              "    cursor: pointer;\n",
              "    display: none;\n",
              "    fill: var(--fill-color);\n",
              "    height: 32px;\n",
              "    padding: 0;\n",
              "    width: 32px;\n",
              "  }\n",
              "\n",
              "  .colab-df-quickchart:hover {\n",
              "    background-color: var(--hover-bg-color);\n",
              "    box-shadow: 0 1px 2px rgba(60, 64, 67, 0.3), 0 1px 3px 1px rgba(60, 64, 67, 0.15);\n",
              "    fill: var(--button-hover-fill-color);\n",
              "  }\n",
              "\n",
              "  .colab-df-quickchart-complete:disabled,\n",
              "  .colab-df-quickchart-complete:disabled:hover {\n",
              "    background-color: var(--disabled-bg-color);\n",
              "    fill: var(--disabled-fill-color);\n",
              "    box-shadow: none;\n",
              "  }\n",
              "\n",
              "  .colab-df-spinner {\n",
              "    border: 2px solid var(--fill-color);\n",
              "    border-color: transparent;\n",
              "    border-bottom-color: var(--fill-color);\n",
              "    animation:\n",
              "      spin 1s steps(1) infinite;\n",
              "  }\n",
              "\n",
              "  @keyframes spin {\n",
              "    0% {\n",
              "      border-color: transparent;\n",
              "      border-bottom-color: var(--fill-color);\n",
              "      border-left-color: var(--fill-color);\n",
              "    }\n",
              "    20% {\n",
              "      border-color: transparent;\n",
              "      border-left-color: var(--fill-color);\n",
              "      border-top-color: var(--fill-color);\n",
              "    }\n",
              "    30% {\n",
              "      border-color: transparent;\n",
              "      border-left-color: var(--fill-color);\n",
              "      border-top-color: var(--fill-color);\n",
              "      border-right-color: var(--fill-color);\n",
              "    }\n",
              "    40% {\n",
              "      border-color: transparent;\n",
              "      border-right-color: var(--fill-color);\n",
              "      border-top-color: var(--fill-color);\n",
              "    }\n",
              "    60% {\n",
              "      border-color: transparent;\n",
              "      border-right-color: var(--fill-color);\n",
              "    }\n",
              "    80% {\n",
              "      border-color: transparent;\n",
              "      border-right-color: var(--fill-color);\n",
              "      border-bottom-color: var(--fill-color);\n",
              "    }\n",
              "    90% {\n",
              "      border-color: transparent;\n",
              "      border-bottom-color: var(--fill-color);\n",
              "    }\n",
              "  }\n",
              "</style>\n",
              "\n",
              "  <script>\n",
              "    async function quickchart(key) {\n",
              "      const quickchartButtonEl =\n",
              "        document.querySelector('#' + key + ' button');\n",
              "      quickchartButtonEl.disabled = true;  // To prevent multiple clicks.\n",
              "      quickchartButtonEl.classList.add('colab-df-spinner');\n",
              "      try {\n",
              "        const charts = await google.colab.kernel.invokeFunction(\n",
              "            'suggestCharts', [key], {});\n",
              "      } catch (error) {\n",
              "        console.error('Error during call to suggestCharts:', error);\n",
              "      }\n",
              "      quickchartButtonEl.classList.remove('colab-df-spinner');\n",
              "      quickchartButtonEl.classList.add('colab-df-quickchart-complete');\n",
              "    }\n",
              "    (() => {\n",
              "      let quickchartButtonEl =\n",
              "        document.querySelector('#df-1cce8b8d-db79-4099-a7f9-41d474df8fc3 button');\n",
              "      quickchartButtonEl.style.display =\n",
              "        google.colab.kernel.accessAllowed ? 'block' : 'none';\n",
              "    })();\n",
              "  </script>\n",
              "</div>\n",
              "\n",
              "  <div id=\"id_37b89eea-5033-4018-8f93-0f41224f422e\">\n",
              "    <style>\n",
              "      .colab-df-generate {\n",
              "        background-color: #E8F0FE;\n",
              "        border: none;\n",
              "        border-radius: 50%;\n",
              "        cursor: pointer;\n",
              "        display: none;\n",
              "        fill: #1967D2;\n",
              "        height: 32px;\n",
              "        padding: 0 0 0 0;\n",
              "        width: 32px;\n",
              "      }\n",
              "\n",
              "      .colab-df-generate:hover {\n",
              "        background-color: #E2EBFA;\n",
              "        box-shadow: 0px 1px 2px rgba(60, 64, 67, 0.3), 0px 1px 3px 1px rgba(60, 64, 67, 0.15);\n",
              "        fill: #174EA6;\n",
              "      }\n",
              "\n",
              "      [theme=dark] .colab-df-generate {\n",
              "        background-color: #3B4455;\n",
              "        fill: #D2E3FC;\n",
              "      }\n",
              "\n",
              "      [theme=dark] .colab-df-generate:hover {\n",
              "        background-color: #434B5C;\n",
              "        box-shadow: 0px 1px 3px 1px rgba(0, 0, 0, 0.15);\n",
              "        filter: drop-shadow(0px 1px 2px rgba(0, 0, 0, 0.3));\n",
              "        fill: #FFFFFF;\n",
              "      }\n",
              "    </style>\n",
              "    <button class=\"colab-df-generate\" onclick=\"generateWithVariable('df')\"\n",
              "            title=\"Generate code using this dataframe.\"\n",
              "            style=\"display:none;\">\n",
              "\n",
              "  <svg xmlns=\"http://www.w3.org/2000/svg\" height=\"24px\"viewBox=\"0 0 24 24\"\n",
              "       width=\"24px\">\n",
              "    <path d=\"M7,19H8.4L18.45,9,17,7.55,7,17.6ZM5,21V16.75L18.45,3.32a2,2,0,0,1,2.83,0l1.4,1.43a1.91,1.91,0,0,1,.58,1.4,1.91,1.91,0,0,1-.58,1.4L9.25,21ZM18.45,9,17,7.55Zm-12,3A5.31,5.31,0,0,0,4.9,8.1,5.31,5.31,0,0,0,1,6.5,5.31,5.31,0,0,0,4.9,4.9,5.31,5.31,0,0,0,6.5,1,5.31,5.31,0,0,0,8.1,4.9,5.31,5.31,0,0,0,12,6.5,5.46,5.46,0,0,0,6.5,12Z\"/>\n",
              "  </svg>\n",
              "    </button>\n",
              "    <script>\n",
              "      (() => {\n",
              "      const buttonEl =\n",
              "        document.querySelector('#id_37b89eea-5033-4018-8f93-0f41224f422e button.colab-df-generate');\n",
              "      buttonEl.style.display =\n",
              "        google.colab.kernel.accessAllowed ? 'block' : 'none';\n",
              "\n",
              "      buttonEl.onclick = () => {\n",
              "        google.colab.notebook.generateWithVariable('df');\n",
              "      }\n",
              "      })();\n",
              "    </script>\n",
              "  </div>\n",
              "\n",
              "    </div>\n",
              "  </div>\n"
            ],
            "application/vnd.google.colaboratory.intrinsic+json": {
              "type": "dataframe",
              "variable_name": "df",
              "summary": "{\n  \"name\": \"df\",\n  \"rows\": 21,\n  \"fields\": [\n    {\n      \"column\": \"Sales_Effort\",\n      \"properties\": {\n        \"dtype\": \"number\",\n        \"std\": 30,\n        \"min\": 20,\n        \"max\": 113,\n        \"num_unique_values\": 21,\n        \"samples\": [\n          100,\n          29,\n          30\n        ],\n        \"semantic_type\": \"\",\n        \"description\": \"\"\n      }\n    },\n    {\n      \"column\": \"Product_Sales\",\n      \"properties\": {\n        \"dtype\": \"number\",\n        \"std\": 3,\n        \"min\": 2,\n        \"max\": 11,\n        \"num_unique_values\": 9,\n        \"samples\": [\n          2,\n          8,\n          5\n        ],\n        \"semantic_type\": \"\",\n        \"description\": \"\"\n      }\n    }\n  ]\n}"
            }
          },
          "metadata": {},
          "execution_count": 39
        }
      ]
    },
    {
      "cell_type": "markdown",
      "source": [
        "# Perform Basic Descriptives"
      ],
      "metadata": {
        "id": "7HGX54MO8G7G"
      }
    },
    {
      "cell_type": "markdown",
      "source": [
        "I chose variables that are complete e.g. RAM and Price. There are 2,160 values for both. There is no need to do missing value imputations."
      ],
      "metadata": {
        "id": "MDOO1mWLRJ2p"
      }
    },
    {
      "cell_type": "code",
      "source": [
        "# count the number of unique values in each column of the laptop dataframe\n",
        "unique_counts = cars.nunique()\n",
        "\n",
        "# display the result\n",
        "print(unique_counts)"
      ],
      "metadata": {
        "colab": {
          "base_uri": "https://localhost:8080/"
        },
        "id": "6kUbXm92VzpW",
        "outputId": "fadbd3d1-d44c-4904-98f5-73479436cd80"
      },
      "execution_count": 39,
      "outputs": [
        {
          "output_type": "stream",
          "name": "stdout",
          "text": [
            "Unnamed: 0      2499\n",
            "price            790\n",
            "brand             28\n",
            "model            127\n",
            "year              30\n",
            "title_status       2\n",
            "mileage         2439\n",
            "color             49\n",
            "vin             2495\n",
            "lot             2495\n",
            "state             44\n",
            "country            2\n",
            "condition         47\n",
            "dtype: int64\n"
          ]
        }
      ]
    },
    {
      "cell_type": "markdown",
      "source": [
        "<font color='red'>What does this exactly mean about the different variable types and what I chose for you in your predetermined X and y in this lab?</font>\n"
      ],
      "metadata": {
        "id": "MSg9-DIbXfJX"
      }
    },
    {
      "cell_type": "code",
      "source": [
        "# review the head and descriptives, get a preview of missing data\n",
        "print(cars.head())\n",
        "print(cars.describe())"
      ],
      "metadata": {
        "colab": {
          "base_uri": "https://localhost:8080/"
        },
        "id": "gfgi0ptqgCZt",
        "outputId": "3624bf01-870a-4d19-8494-3be0604443fc"
      },
      "execution_count": 40,
      "outputs": [
        {
          "output_type": "stream",
          "name": "stdout",
          "text": [
            "   Unnamed: 0  price      brand    model  year   title_status   mileage  \\\n",
            "0           0   6300     toyota  cruiser  2008  clean vehicle  274117.0   \n",
            "1           1   2899       ford       se  2011  clean vehicle  190552.0   \n",
            "2           2   5350      dodge      mpv  2018  clean vehicle   39590.0   \n",
            "3           3  25000       ford     door  2014  clean vehicle   64146.0   \n",
            "4           4  27700  chevrolet     1500  2018  clean vehicle    6654.0   \n",
            "\n",
            "    color                  vin        lot       state country      condition  \n",
            "0   black    jtezu11f88k007763  159348797  new jersey     usa   10 days left  \n",
            "1  silver    2fmdk3gc4bbb02217  166951262   tennessee     usa    6 days left  \n",
            "2  silver    3c4pdcgg5jt346413  167655728     georgia     usa    2 days left  \n",
            "3    blue    1ftfw1et4efc23745  167753855    virginia     usa  22 hours left  \n",
            "4     red    3gcpcrec2jg473991  167763266     florida     usa  22 hours left  \n",
            "        Unnamed: 0         price         year       mileage           lot\n",
            "count  2499.000000   2499.000000  2499.000000  2.499000e+03  2.499000e+03\n",
            "mean   1249.000000  18767.671469  2016.714286  5.229869e+04  1.676914e+08\n",
            "std     721.543484  12116.094936     3.442656  5.970552e+04  2.038772e+05\n",
            "min       0.000000      0.000000  1973.000000  0.000000e+00  1.593488e+08\n",
            "25%     624.500000  10200.000000  2016.000000  2.146650e+04  1.676253e+08\n",
            "50%    1249.000000  16900.000000  2018.000000  3.536500e+04  1.677451e+08\n",
            "75%    1873.500000  25555.500000  2019.000000  6.347250e+04  1.677798e+08\n",
            "max    2498.000000  84900.000000  2020.000000  1.017936e+06  1.678055e+08\n"
          ]
        }
      ]
    },
    {
      "cell_type": "code",
      "source": [
        "cars.shape"
      ],
      "metadata": {
        "colab": {
          "base_uri": "https://localhost:8080/"
        },
        "id": "RPlEvifM3j_N",
        "outputId": "ec87c117-2ac5-4ed0-cee2-14fbcfb074f8"
      },
      "execution_count": 41,
      "outputs": [
        {
          "output_type": "execute_result",
          "data": {
            "text/plain": [
              "(2499, 13)"
            ]
          },
          "metadata": {},
          "execution_count": 41
        }
      ]
    },
    {
      "cell_type": "code",
      "source": [
        "cars.dtypes"
      ],
      "metadata": {
        "colab": {
          "base_uri": "https://localhost:8080/",
          "height": 554
        },
        "id": "qeZzsc722_Bb",
        "outputId": "dbcdfad1-fbf7-469d-a27e-5f800531e86b"
      },
      "execution_count": 45,
      "outputs": [
        {
          "output_type": "execute_result",
          "data": {
            "text/plain": [
              "Unnamed: 0            int64\n",
              "price                 int64\n",
              "brand                object\n",
              "model                object\n",
              "year                  int64\n",
              "title_status         object\n",
              "mileage             float64\n",
              "color                object\n",
              "vin                  object\n",
              "lot                   int64\n",
              "state                object\n",
              "condition            object\n",
              "Country_cat        category\n",
              "country_ canada        bool\n",
              "country_ usa           bool\n",
              "dtype: object"
            ],
            "text/html": [
              "<div>\n",
              "<style scoped>\n",
              "    .dataframe tbody tr th:only-of-type {\n",
              "        vertical-align: middle;\n",
              "    }\n",
              "\n",
              "    .dataframe tbody tr th {\n",
              "        vertical-align: top;\n",
              "    }\n",
              "\n",
              "    .dataframe thead th {\n",
              "        text-align: right;\n",
              "    }\n",
              "</style>\n",
              "<table border=\"1\" class=\"dataframe\">\n",
              "  <thead>\n",
              "    <tr style=\"text-align: right;\">\n",
              "      <th></th>\n",
              "      <th>0</th>\n",
              "    </tr>\n",
              "  </thead>\n",
              "  <tbody>\n",
              "    <tr>\n",
              "      <th>Unnamed: 0</th>\n",
              "      <td>int64</td>\n",
              "    </tr>\n",
              "    <tr>\n",
              "      <th>price</th>\n",
              "      <td>int64</td>\n",
              "    </tr>\n",
              "    <tr>\n",
              "      <th>brand</th>\n",
              "      <td>object</td>\n",
              "    </tr>\n",
              "    <tr>\n",
              "      <th>model</th>\n",
              "      <td>object</td>\n",
              "    </tr>\n",
              "    <tr>\n",
              "      <th>year</th>\n",
              "      <td>int64</td>\n",
              "    </tr>\n",
              "    <tr>\n",
              "      <th>title_status</th>\n",
              "      <td>object</td>\n",
              "    </tr>\n",
              "    <tr>\n",
              "      <th>mileage</th>\n",
              "      <td>float64</td>\n",
              "    </tr>\n",
              "    <tr>\n",
              "      <th>color</th>\n",
              "      <td>object</td>\n",
              "    </tr>\n",
              "    <tr>\n",
              "      <th>vin</th>\n",
              "      <td>object</td>\n",
              "    </tr>\n",
              "    <tr>\n",
              "      <th>lot</th>\n",
              "      <td>int64</td>\n",
              "    </tr>\n",
              "    <tr>\n",
              "      <th>state</th>\n",
              "      <td>object</td>\n",
              "    </tr>\n",
              "    <tr>\n",
              "      <th>condition</th>\n",
              "      <td>object</td>\n",
              "    </tr>\n",
              "    <tr>\n",
              "      <th>Country_cat</th>\n",
              "      <td>category</td>\n",
              "    </tr>\n",
              "    <tr>\n",
              "      <th>country_ canada</th>\n",
              "      <td>bool</td>\n",
              "    </tr>\n",
              "    <tr>\n",
              "      <th>country_ usa</th>\n",
              "      <td>bool</td>\n",
              "    </tr>\n",
              "  </tbody>\n",
              "</table>\n",
              "</div><br><label><b>dtype:</b> object</label>"
            ]
          },
          "metadata": {},
          "execution_count": 45
        }
      ]
    },
    {
      "cell_type": "code",
      "source": [
        "cars['Country_cat'] = cars['country'].astype('category')"
      ],
      "metadata": {
        "id": "wRenp3id2qPm"
      },
      "execution_count": 43,
      "outputs": []
    },
    {
      "cell_type": "markdown",
      "source": [
        "# Get Dummies"
      ],
      "metadata": {
        "id": "YDytgzp19Wlo"
      }
    },
    {
      "cell_type": "code",
      "source": [
        "cars = pd.get_dummies(cars, columns=['country'])"
      ],
      "metadata": {
        "id": "uDnhZzYa9h_g"
      },
      "execution_count": 44,
      "outputs": []
    },
    {
      "cell_type": "markdown",
      "source": [
        "# Prepare Model Variables for Train & Test Split"
      ],
      "metadata": {
        "id": "xIqEdcrm8Njb"
      }
    },
    {
      "cell_type": "markdown",
      "source": [
        "## Step 1: Assign Predictor(s)/Feature(s) to X and Target to y"
      ],
      "metadata": {
        "id": "QKZOv8Uk8Yvp"
      }
    },
    {
      "cell_type": "code",
      "source": [
        "X = cars[['mileage', 'year']]  # Predictor(s) | Feature(s) *** more predictors would like X = laptops[['RAM', 'Storage', 'Screen Size', 'etc.']] ***\n",
        "y = cars['price']  # Target or Outcome"
      ],
      "metadata": {
        "id": "aKER2-ZOgJAs"
      },
      "execution_count": 52,
      "outputs": []
    },
    {
      "cell_type": "code",
      "source": [
        "print(X)"
      ],
      "metadata": {
        "colab": {
          "base_uri": "https://localhost:8080/"
        },
        "id": "46HsyOMg3ZBO",
        "outputId": "e422d088-288e-4129-d07a-104cee68b08a"
      },
      "execution_count": 47,
      "outputs": [
        {
          "output_type": "stream",
          "name": "stdout",
          "text": [
            "       mileage  year  country_ usa\n",
            "0     274117.0  2008          True\n",
            "1     190552.0  2011          True\n",
            "2      39590.0  2018          True\n",
            "3      64146.0  2014          True\n",
            "4       6654.0  2018          True\n",
            "...        ...   ...           ...\n",
            "2494   23609.0  2019          True\n",
            "2495   34553.0  2018          True\n",
            "2496   31594.0  2018          True\n",
            "2497   32557.0  2018          True\n",
            "2498   31371.0  2018          True\n",
            "\n",
            "[2499 rows x 3 columns]\n"
          ]
        }
      ]
    },
    {
      "cell_type": "markdown",
      "source": [
        "## Step 2: Derive split variables"
      ],
      "metadata": {
        "id": "vwmt5GwN8kQc"
      }
    },
    {
      "cell_type": "code",
      "source": [
        "from sklearn.model_selection import train_test_split # library\n",
        "X_train, X_test, y_train, y_test = train_test_split(X, y, test_size=0.2, random_state=42) # random_state is also called seed value for reproduction"
      ],
      "metadata": {
        "id": "LYiq2upMgJcd"
      },
      "execution_count": 54,
      "outputs": []
    },
    {
      "cell_type": "code",
      "source": [
        "X_train.shape"
      ],
      "metadata": {
        "colab": {
          "base_uri": "https://localhost:8080/"
        },
        "id": "PD6s0JV94SfA",
        "outputId": "c11791d5-b49f-48f3-c7e4-30712b9c90fd"
      },
      "execution_count": 49,
      "outputs": [
        {
          "output_type": "execute_result",
          "data": {
            "text/plain": [
              "(1999, 3)"
            ]
          },
          "metadata": {},
          "execution_count": 49
        }
      ]
    },
    {
      "cell_type": "code",
      "source": [
        "y_train.shape"
      ],
      "metadata": {
        "colab": {
          "base_uri": "https://localhost:8080/"
        },
        "id": "L6VOMNP04xES",
        "outputId": "c83d71ed-f462-4bfd-aec9-70c3919fb8a0"
      },
      "execution_count": 50,
      "outputs": [
        {
          "output_type": "execute_result",
          "data": {
            "text/plain": [
              "(1999,)"
            ]
          },
          "metadata": {},
          "execution_count": 50
        }
      ]
    },
    {
      "cell_type": "code",
      "source": [],
      "metadata": {
        "id": "XW-H0yay41xR"
      },
      "execution_count": null,
      "outputs": []
    },
    {
      "cell_type": "markdown",
      "source": [
        "<font color='red'>How would a training set of 70%, validation set of 15% and test set of 15% be derived?</font>"
      ],
      "metadata": {
        "id": "kzOaTifAZnam"
      }
    },
    {
      "cell_type": "code",
      "source": [
        "#X_train, X_test, y_train, y_test = train_test_split(X, y, test_size=0.15, random_state=42)"
      ],
      "metadata": {
        "id": "AmNsBrw-leS7"
      },
      "execution_count": null,
      "outputs": []
    },
    {
      "cell_type": "code",
      "source": [
        "#X_train, X_valid, y_train, y_valid = train_test_split(X_train, y_train, test_size=0.15, random_state=42)"
      ],
      "metadata": {
        "id": "BMi5XJXxlwd0"
      },
      "execution_count": null,
      "outputs": []
    },
    {
      "cell_type": "markdown",
      "source": [
        "# Fit Simple Linear Regression Model (Preferred)"
      ],
      "metadata": {
        "id": "bPWZZjfb9eq-"
      }
    },
    {
      "cell_type": "code",
      "source": [
        "from statsmodels.formula.api import ols\n",
        "X_train_const = sm.add_constant(X_train)\n",
        "model = sm.OLS(y_train, X_train_const).fit()\n",
        "print(model.summary())"
      ],
      "metadata": {
        "colab": {
          "base_uri": "https://localhost:8080/"
        },
        "id": "aIhr-9lGgMxN",
        "outputId": "eaa818b3-498b-4d41-e173-630a59e3624e"
      },
      "execution_count": 55,
      "outputs": [
        {
          "output_type": "stream",
          "name": "stdout",
          "text": [
            "                            OLS Regression Results                            \n",
            "==============================================================================\n",
            "Dep. Variable:                  price   R-squared:                       0.205\n",
            "Model:                            OLS   Adj. R-squared:                  0.204\n",
            "Method:                 Least Squares   F-statistic:                     257.7\n",
            "Date:                Mon, 04 Nov 2024   Prob (F-statistic):          2.85e-100\n",
            "Time:                        21:11:05   Log-Likelihood:                -21381.\n",
            "No. Observations:                1999   AIC:                         4.277e+04\n",
            "Df Residuals:                    1996   BIC:                         4.278e+04\n",
            "Df Model:                           2                                         \n",
            "Covariance Type:            nonrobust                                         \n",
            "==============================================================================\n",
            "                 coef    std err          t      P>|t|      [0.025      0.975]\n",
            "------------------------------------------------------------------------------\n",
            "const      -1.782e+06   1.69e+05    -10.563      0.000   -2.11e+06   -1.45e+06\n",
            "mileage       -0.0505      0.005    -10.077      0.000      -0.060      -0.041\n",
            "year         894.1511     83.579     10.698      0.000     730.240    1058.062\n",
            "==============================================================================\n",
            "Omnibus:                      424.404   Durbin-Watson:                   1.966\n",
            "Prob(Omnibus):                  0.000   Jarque-Bera (JB):              908.572\n",
            "Skew:                           1.211   Prob(JB):                    5.08e-198\n",
            "Kurtosis:                       5.244   Cond. No.                     5.54e+07\n",
            "==============================================================================\n",
            "\n",
            "Notes:\n",
            "[1] Standard Errors assume that the covariance matrix of the errors is correctly specified.\n",
            "[2] The condition number is large, 5.54e+07. This might indicate that there are\n",
            "strong multicollinearity or other numerical problems.\n"
          ]
        }
      ]
    },
    {
      "cell_type": "markdown",
      "source": [
        "<font color='red'>What are your thoughts on Skewness? What does a value of < 2 on the DW suggest?</font>"
      ],
      "metadata": {
        "id": "6B-OPP-RaBcR"
      }
    },
    {
      "cell_type": "markdown",
      "source": [
        "# Fit Simple Linear Regression Model (Like your textbook)"
      ],
      "metadata": {
        "id": "wb_25JmskNIy"
      }
    },
    {
      "cell_type": "code",
      "source": [
        "# Step 0: Import ols library from Statsmodels.api\n",
        "from statsmodels.formula.api import ols\n",
        "\n",
        "# Step 1: Combine your x_train and y_train into a single DataFrame\n",
        "train_df = pd.DataFrame(X_train, columns=['RAM'])  # Adjust column name as needed\n",
        "train_df['Final_Price'] = y_train\n",
        "\n",
        "# Step 2: Use the formula interface\n",
        "model2 = ols('Final_Price ~ RAM', data=train_df).fit()\n",
        "\n",
        "# Step 3: Print the summary like above\n",
        "print(model2.summary())"
      ],
      "metadata": {
        "colab": {
          "base_uri": "https://localhost:8080/"
        },
        "id": "co3YNaF5kIiw",
        "outputId": "7bb2a662-568b-476c-be5a-ef0af8d3bd09"
      },
      "execution_count": null,
      "outputs": [
        {
          "output_type": "stream",
          "name": "stdout",
          "text": [
            "                            OLS Regression Results                            \n",
            "==============================================================================\n",
            "Dep. Variable:            Final_Price   R-squared:                       0.528\n",
            "Model:                            OLS   Adj. R-squared:                  0.528\n",
            "Method:                 Least Squares   F-statistic:                     1934.\n",
            "Date:                Mon, 28 Oct 2024   Prob (F-statistic):          4.59e-284\n",
            "Time:                        23:12:51   Log-Likelihood:                -13553.\n",
            "No. Observations:                1728   AIC:                         2.711e+04\n",
            "Df Residuals:                    1726   BIC:                         2.712e+04\n",
            "Df Model:                           1                                         \n",
            "Covariance Type:            nonrobust                                         \n",
            "==============================================================================\n",
            "                 coef    std err          t      P>|t|      [0.025      0.975]\n",
            "------------------------------------------------------------------------------\n",
            "Intercept    247.8657     28.085      8.826      0.000     192.782     302.949\n",
            "RAM           68.6193      1.560     43.982      0.000      65.559      71.679\n",
            "==============================================================================\n",
            "Omnibus:                      504.853   Durbin-Watson:                   1.956\n",
            "Prob(Omnibus):                  0.000   Jarque-Bera (JB):             2443.632\n",
            "Skew:                           1.300   Prob(JB):                         0.00\n",
            "Kurtosis:                       8.213   Cond. No.                         34.1\n",
            "==============================================================================\n",
            "\n",
            "Notes:\n",
            "[1] Standard Errors assume that the covariance matrix of the errors is correctly specified.\n"
          ]
        }
      ]
    },
    {
      "cell_type": "markdown",
      "source": [
        "## Assumption Checks"
      ],
      "metadata": {
        "id": "ZHt71q3FVLZk"
      }
    },
    {
      "cell_type": "markdown",
      "source": [
        "### Train Data"
      ],
      "metadata": {
        "id": "IAfg9CPXVf19"
      }
    },
    {
      "cell_type": "code",
      "source": [
        "# load library (if not already done)\n",
        "from statsmodels.stats.outliers_influence import OLSInfluence\n",
        "\n",
        "# establish the residual/error object (see my handout called Assumptions of Linear Regression)\n",
        "\n",
        "# Step 1: predicted y values from training data\n",
        "y_train_pred = model.predict(X_train_const)\n",
        "\n",
        "# Step 2: calculate error/residual by taking the difference\n",
        "y_train_residuals =  np.array(y_train) - np.array(y_train_pred)\n",
        "\n",
        "# Step 3a: calculate the studentized residuals\n",
        "y_train_studentized_residuals = model.get_influence().resid_studentized_internal\n",
        "\n",
        "# Step3b: calculate the standardized residuals\n",
        "y_train_standardized_residuals = model.resid / model.resid.std() # providing this so you can see residuals (unstandardized) are calcuated from the model without manually doing it as above"
      ],
      "metadata": {
        "id": "dlOurHa7V9AG"
      },
      "execution_count": 56,
      "outputs": []
    },
    {
      "cell_type": "markdown",
      "source": [
        "#### 1. Linearity"
      ],
      "metadata": {
        "id": "P5EpRzsrVirE"
      }
    },
    {
      "cell_type": "code",
      "source": [
        "import matplotlib.pyplot as plt\n",
        "import seaborn as sns\n",
        "\n",
        "# Assuming you have a model fit and predicted values\n",
        "y_pred = model.predict(X_train_const)  # Predicted values\n",
        "y_actual = y_train\n",
        "\n",
        "# Scatter plot of actual vs. predicted values\n",
        "plt.scatter(y_train, y_pred, label='Predicted vs. Actual', color='blue')\n",
        "\n",
        "# Plot the ideal (perfect prediction) line\n",
        "plt.plot([min(y_actual), max(y_actual)], [min(y_actual), max(y_actual)], color='red', linestyle='--', label='Perfect Fit Line')\n",
        "\n",
        "plt.xlabel('Actual Values')\n",
        "plt.ylabel('Predicted Values')\n",
        "plt.title('Actual vs. Predicted Values (Checking Linearity)')\n",
        "plt.legend()\n",
        "plt.show()\n"
      ],
      "metadata": {
        "colab": {
          "base_uri": "https://localhost:8080/",
          "height": 472
        },
        "id": "2Qx6qr854JID",
        "outputId": "495efab2-666b-4561-d5a2-3b95473f2e05"
      },
      "execution_count": 25,
      "outputs": [
        {
          "output_type": "display_data",
          "data": {
            "text/plain": [
              "<Figure size 640x480 with 1 Axes>"
            ],
            "image/png": "[encoded data removed]"
          },
          "metadata": {}
        }
      ]
    },
    {
      "cell_type": "markdown",
      "source": [
        "<font color='red'>Why aren't the actual data points on the fitted line?</font>"
      ],
      "metadata": {
        "id": "e1SVYlieaV0_"
      }
    },
    {
      "cell_type": "markdown",
      "source": [
        "#### 2. Independence of Residuals"
      ],
      "metadata": {
        "id": "b5YpkvC9X_Dg"
      }
    },
    {
      "cell_type": "code",
      "source": [
        "from statsmodels.stats.stattools import durbin_watson\n",
        "dw_result = durbin_watson(y_train_residuals)\n",
        "print(dw_result)"
      ],
      "metadata": {
        "colab": {
          "base_uri": "https://localhost:8080/"
        },
        "id": "U11lUeHDYEFP",
        "outputId": "8be5ddfb-4821-428c-ab5c-efc8040eacf1"
      },
      "execution_count": 26,
      "outputs": [
        {
          "output_type": "stream",
          "name": "stdout",
          "text": [
            "1.9656558223561273\n"
          ]
        }
      ]
    },
    {
      "cell_type": "markdown",
      "source": [
        "What to Look For:\n",
        "\n",
        "\n",
        "*   Random scatter: The residuals should be randomly scattered around the horizontal line at 0 (red dashed line).\n",
        "*  No clear patterns: If you see a pattern (e.g., a funnel shape, curve, or cluseters), this could indicate the model is not appropriately capturing the linear relationship, and there may be non-linearity in the data.\n",
        "\n"
      ],
      "metadata": {
        "id": "cQubDpHNa7Yz"
      }
    },
    {
      "cell_type": "markdown",
      "source": [
        "Interpretation of the Training Residuals\n",
        "\n",
        "\n",
        "*   Non-random patterns are suggestive in the residuals, as evidenced at the higher predicted values where the residuals fan out. Our concern is heteroscedasticity (variance of residuals increases with larger predicted values) or potential non-linearity.\n",
        "*  Ideally, for the linearity assumption to hold, the residuals should be more uniformly spread across the predicted values, without any fanning or systematic patterns.\n",
        "\n"
      ],
      "metadata": {
        "id": "gNKkBVlFbg0m"
      }
    },
    {
      "cell_type": "markdown",
      "source": [
        "What to Look For:\n",
        "\n",
        "\n",
        "*   DW statistic closer to 0 suggest positive autocorrelation i.e., residual is positive, the next residual is likely to be positive, vice versa for negative.\n",
        "*   DW statistic closer to 4, suggest negative autocorrelation i.e., residual is negative the next residual is likely to be positive, vice versa for positive.\n",
        "\n"
      ],
      "metadata": {
        "id": "NDHvdFVscYjb"
      }
    },
    {
      "cell_type": "markdown",
      "source": [
        "Interpreation of Training Residuals\n",
        "\n",
        "\n",
        "*   DW is close to 2 with 1.956, thus no significant autocorrelation and assumption is satisfied.\n",
        "\n"
      ],
      "metadata": {
        "id": "QiHxABn5dmml"
      }
    },
    {
      "cell_type": "markdown",
      "source": [
        "#### 3. Homoscedasticity of Residuals"
      ],
      "metadata": {
        "id": "7zosZYypwFbC"
      }
    },
    {
      "cell_type": "code",
      "source": [
        "import matplotlib.pyplot as plt\n",
        "\n",
        "# Calculate residuals\n",
        "residuals = y_actual - y_pred  # Basic residuals\n",
        "# OR for studentized residuals (like in your original image):\n",
        "from scipy import stats\n",
        "studentized_residuals = stats.zscore(residuals)  # Standardized residuals\n",
        "\n",
        "# Create the residuals plot\n",
        "plt.figure(figsize=(8, 6))\n",
        "plt.scatter(y_pred, studentized_residuals,  # Note the order: x=predicted, y=residuals\n",
        "           color='blue',\n",
        "           alpha=0.5,\n",
        "           label='Residuals')\n",
        "\n",
        "# Add horizontal line at y=0\n",
        "plt.axhline(y=0, color='red', linestyle='--', label='Zero Line')\n",
        "\n",
        "# Add labels and title\n",
        "plt.xlabel('Fitted Values (Predicted)')\n",
        "plt.ylabel('Residuals')\n",
        "plt.title('Residuals vs Fitted Values')\n",
        "\n",
        "# Add grid and legend\n",
        "plt.grid(True, linestyle='--', alpha=0.7)\n",
        "plt.legend()\n",
        "\n",
        "# Show the plot\n",
        "plt.show()"
      ],
      "metadata": {
        "colab": {
          "base_uri": "https://localhost:8080/",
          "height": 564
        },
        "id": "FPyIIdljWqre",
        "outputId": "0659057e-e178-461c-85c0-8c9d5ca619d1"
      },
      "execution_count": 29,
      "outputs": [
        {
          "output_type": "display_data",
          "data": {
            "text/plain": [
              "<Figure size 800x600 with 1 Axes>"
            ],
            "image/png": "[encoded data removed]"
          },
          "metadata": {}
        }
      ]
    },
    {
      "cell_type": "code",
      "source": [
        "import matplotlib.pyplot as plt\n",
        "import seaborn as sns\n",
        "#predicted_values = model.predict(X) | did this above\n",
        "#residuals = y - predicted_values | did this above\n",
        "sns.scatterplot(x=y_train_pred, y=y_train_studentized_residuals) # more accurate is using y_train_studentized_residuals vs y_train_residuals\n",
        "plt.axhline(0, color='red', linestyle='--')\n",
        "plt.xlabel('Predicted Values')\n",
        "plt.ylabel('Studentized Residuals') # make sure to update this based on what you set the y = value too, i.e. Residuals, Studentized Residuals, Standardized Residuals\n",
        "plt.show()"
      ],
      "metadata": {
        "colab": {
          "base_uri": "https://localhost:8080/",
          "height": 449
        },
        "id": "FOBLn0V2VL4k",
        "outputId": "476f78d8-33f4-478d-a3c1-d7a7d6a4cc9d"
      },
      "execution_count": 30,
      "outputs": [
        {
          "output_type": "display_data",
          "data": {
            "text/plain": [
              "<Figure size 640x480 with 1 Axes>"
            ],
            "image/png": "[encoded data removed]"
          },
          "metadata": {}
        }
      ]
    },
    {
      "cell_type": "markdown",
      "source": [
        "Interpretation: The spread of residuals is roughly constant across all predicted values. In this plot, the spread of residuals appears to be relatively consistent across different predicted values, though there might be some slight patterns."
      ],
      "metadata": {
        "id": "EbwTmMolUg5D"
      }
    },
    {
      "cell_type": "markdown",
      "source": [
        "#### 4. Multivariate Normality of Residuals"
      ],
      "metadata": {
        "id": "820GZRWO01He"
      }
    },
    {
      "cell_type": "code",
      "source": [
        "from scipy.stats import shapiro\n",
        "\n",
        "# Histogram\n",
        "sns.histplot(y_train_residuals, kde=True)\n",
        "\n",
        "# Shapiro-Wilk Test\n",
        "stat, p_value = shapiro(y_train_residuals)\n",
        "print(f\"P-value for Shapiro-Wilk Test: {p_value}\")\n",
        "\n",
        "# QQ-plots\n",
        "import statsmodels.api as sm\n",
        "import numpy as np\n",
        "import matplotlib.pyplot as plt\n",
        "\n",
        "# Assuming you have X (independent variable) and Y (dependent variable)\n",
        "# X = sm.add_constant(X) # Add a constant to the model (i.e., bias or intercept)\n",
        "\n",
        "# model = sm.OLS(Y, X).fit()\n",
        "# Assume 'residuals' is a list or array of residuals from your model\n",
        "# residuals = model.resid\n",
        "\n",
        "# Now, plot the QQ plot\n",
        "sm.qqplot(y_train_residuals, line='45') # The line='45' adds a 45-degree line on the plot for reference\n",
        "plt.show()"
      ],
      "metadata": {
        "colab": {
          "base_uri": "https://localhost:8080/",
          "height": 879
        },
        "id": "nQ401bKV00xb",
        "outputId": "2f2f8aff-4f1e-4a2e-ac52-4e53dd2ba79b"
      },
      "execution_count": 31,
      "outputs": [
        {
          "output_type": "stream",
          "name": "stdout",
          "text": [
            "P-value for Shapiro-Wilk Test: 4.3594614049997246e-30\n"
          ]
        },
        {
          "output_type": "display_data",
          "data": {
            "text/plain": [
              "<Figure size 640x480 with 1 Axes>"
            ],
            "image/png": "[encoded data removed]"
          },
          "metadata": {}
        },
        {
          "output_type": "display_data",
          "data": {
            "text/plain": [
              "<Figure size 640x480 with 1 Axes>"
            ],
            "image/png": "[encoded data removed]"
          },
          "metadata": {}
        }
      ]
    },
    {
      "cell_type": "code",
      "source": [
        "import matplotlib.pyplot as plt\n",
        "from scipy import stats\n",
        "\n",
        "# Create probability plot (Q-Q plot)\n",
        "plt.figure(figsize=(8, 6))\n",
        "\n",
        "# Generate Q-Q plot using residuals\n",
        "stats.probplot(y_train_residuals, dist=\"norm\", plot=plt)\n",
        "\n",
        "# Customize the plot\n",
        "plt.title('Normal Q-Q Plot of Residuals')\n",
        "plt.xlabel('Theoretical Quantiles')\n",
        "plt.ylabel('Ordered Values')\n",
        "\n",
        "# Optional: Add grid\n",
        "plt.grid(True, linestyle='--', alpha=0.3)\n",
        "\n",
        "plt.show()"
      ],
      "metadata": {
        "colab": {
          "base_uri": "https://localhost:8080/",
          "height": 564
        },
        "id": "okrRW8XyX3Bh",
        "outputId": "ad2682c7-8cbc-43bc-bdd0-06a590568ffe"
      },
      "execution_count": 32,
      "outputs": [
        {
          "output_type": "display_data",
          "data": {
            "text/plain": [
              "<Figure size 800x600 with 1 Axes>"
            ],
            "image/png": "[encoded data removed]"
          },
          "metadata": {}
        }
      ]
    },
    {
      "cell_type": "code",
      "source": [
        "import matplotlib.pyplot as plt\n",
        "from scipy import stats\n",
        "\n",
        "# Standardize the residuals\n",
        "standardized_residuals = (y_train_residuals - np.mean(y_train_residuals)) / np.std(y_train_residuals)\n",
        "# OR use scipy's zscore which does the same thing:\n",
        "# standardized_residuals = stats.zscore(y_train_residuals)\n",
        "\n",
        "# Create probability plot\n",
        "plt.figure(figsize=(8, 6))\n",
        "\n",
        "# Generate Q-Q plot using standardized residuals\n",
        "stats.probplot(standardized_residuals, dist=\"norm\", plot=plt)\n",
        "\n",
        "# Customize the plot\n",
        "plt.title('Normal Q-Q Plot of Standardized Residuals')\n",
        "plt.xlabel('Theoretical Quantiles')\n",
        "plt.ylabel('Standardized Residuals')\n",
        "\n",
        "# Optional: Add grid\n",
        "plt.grid(True, linestyle='--', alpha=0.3)\n",
        "\n",
        "plt.show()"
      ],
      "metadata": {
        "colab": {
          "base_uri": "https://localhost:8080/",
          "height": 564
        },
        "id": "A1VjFrwFYVsd",
        "outputId": "18f9a57c-6c62-40ca-bbea-eefa435a7a9e"
      },
      "execution_count": null,
      "outputs": [
        {
          "output_type": "display_data",
          "data": {
            "text/plain": [
              "<Figure size 800x600 with 1 Axes>"
            ],
            "image/png": "[encoded data removed]"
          },
          "metadata": {}
        }
      ]
    },
    {
      "cell_type": "markdown",
      "source": [
        "**<font color='purple'>AI Assistance/Prompt: Interpret the image (snipped SW and both plots) via Window Shift S</font>**"
      ],
      "metadata": {
        "id": "8C-r1LkxbBe1"
      }
    },
    {
      "cell_type": "markdown",
      "source": [
        "*Claude 3.5 Sonnet Response*\n",
        "\n",
        "Based on these diagnostic plots (histogram with density curve and Q-Q plot) and the Shapiro-Wilk test p-value (2.74e-29), we can conclude that the residuals are NOT normally distributed. Here's the detailed interpretation:\n",
        "\n",
        "**Shapiro-Wilk Test:**\n",
        "\n",
        "*   P-value is extremely small (2.74e-29 << 0.05)\n",
        "*   Null hypothesis (that data is normally distributed) is rejected\n",
        "*   This strongly suggests non-normality\n",
        "\n",
        "**Histogram:**\n",
        "\n",
        "*   Shows a peaked (leptokurtic) distribution\n",
        "*   Appears to have heavier tails than a normal distribution\n",
        "*   Distribution appears somewhat symmetric but more concentrated around the mean than a normal distribution would be\n",
        "\n",
        "**Q-Q Plot (Quantile-Quantile Plot):**\n",
        "\n",
        "*   Points significantly deviate from the red diagonal line\n",
        "*   Particularly noticeable deviation in the tails\n",
        "*   The S-shaped pattern suggests heavier tails than normal distribution\n",
        "*   Vertical striping pattern suggests possible discreteness in the data\n",
        "\n",
        "**Recommendations:**\n",
        "\n",
        "1.   Consider data transformation (e.g., log, square root)\n",
        "2.   Check for outliers that might be affecting the distribution\n",
        "1.   Consider robust regression methods if normality cannot be achieved\n",
        "2.   Investigate why the data might be showing this pattern (could be inherent to your variable's nature)\n",
        "\n",
        "\n",
        "\n",
        "\n"
      ],
      "metadata": {
        "id": "dZN747hFbsmY"
      }
    },
    {
      "cell_type": "markdown",
      "source": [
        "#### 5. Multicollineary (for multiple linear regression)"
      ],
      "metadata": {
        "id": "msUwo98U1f0x"
      }
    },
    {
      "cell_type": "code",
      "source": [
        "import pandas as pd\n",
        "from statsmodels.stats.outliers_influence import variance_inflation_factor\n",
        "from statsmodels.tools.tools import add_constant\n",
        "\n",
        "# Add a constant column for intercept\n",
        "X_with_const = add_constant(X_train, has_constant='add')\n",
        "\n",
        "# Create a DataFrame to hold VIF values and the corresponding variable names\n",
        "vif_data = pd.DataFrame()\n",
        "vif_data[\"Variable\"] = X_with_const.columns  # Assign column names\n",
        "vif_data[\"VIF\"] = [variance_inflation_factor(X_with_const.values, i) for i in range(X_with_const.shape[1])]\n",
        "\n",
        "# Print the VIF values for each predictor and the constant\n",
        "print(vif_data)"
      ],
      "metadata": {
        "colab": {
          "base_uri": "https://localhost:8080/"
        },
        "id": "uJlgBisO1tGv",
        "outputId": "964b49c4-fd68-48f8-dc70-cea045abc157"
      },
      "execution_count": 33,
      "outputs": [
        {
          "output_type": "stream",
          "name": "stdout",
          "text": [
            "  Variable            VIF\n",
            "0    const  497498.167427\n",
            "1  mileage       1.509909\n",
            "2     year       1.509909\n"
          ]
        }
      ]
    },
    {
      "cell_type": "markdown",
      "source": [
        "**Generally accepted VIF (Variance Inflation Factor) limits:**\n",
        "\n",
        "*   VIF = 1: No correlation\n",
        "*   1 < VIF < 5: Moderate correlation (generally acceptable)\n",
        "*   VIF ≥ 5: High correlation (concerning)\n",
        "*   VIF ≥ 10: Severe multicollinearity (problematic)\n",
        "\n",
        "**Some rules of thumb:**\n",
        "\n",
        "*   Conservative approach: VIF > 5 requires attention\n",
        "*   Common threshold: VIF > 10 definitely needs addressing\n",
        "*   Some fields (like medicine) might use stricter limits like VIF > 2.5\n",
        "\n",
        "**Possible fix for high VIF values:**\n",
        "\n",
        "*   Remove one of the highly correlated predictors\n",
        "*   Combine correlated predictors\n",
        "*   Use dimensionality reduction techniques like PCA\n",
        "*   Center the variables (subtract mean)"
      ],
      "metadata": {
        "id": "19ENPpQaRn3I"
      }
    },
    {
      "cell_type": "markdown",
      "source": [
        "## Model Performance Evaluation"
      ],
      "metadata": {
        "id": "AH3AkEDFVNrt"
      }
    },
    {
      "cell_type": "markdown",
      "source": [
        "### Train Data"
      ],
      "metadata": {
        "id": "W4VkjWhGR1pO"
      }
    },
    {
      "cell_type": "markdown",
      "source": [
        "#### Extract y_train pred values"
      ],
      "metadata": {
        "id": "vdEO-ACpofhM"
      }
    },
    {
      "cell_type": "code",
      "source": [
        "X_train_const = sm.add_constant(X_train) # need to create a constant wrapper (I know it seems convaluted)\n",
        "y_train_pred = model.predict(X_train_const) # note, we are using the model coeffients and constant/intercept value from the fitted model above"
      ],
      "metadata": {
        "id": "od3blOWLgnL8"
      },
      "execution_count": 59,
      "outputs": []
    },
    {
      "cell_type": "markdown",
      "source": [
        "#### Generate Fit Indicies"
      ],
      "metadata": {
        "id": "PYJWh--_qNJY"
      }
    },
    {
      "cell_type": "code",
      "source": [
        "# load libraries if not already done\n",
        "import numpy as np\n",
        "\n",
        "# Mean of actual y_train values (not y_train values)\n",
        "mean_actual = np.mean(y_train)\n",
        "\n",
        "# Calculating errors\n",
        "errors = np.array(y_train) - np.array(y_train_pred) # actual minus predicted\n",
        "\n",
        "# Bias: The average difference between y_train predicted and y_train actual values\n",
        "bias = errors.mean() # careful I did not rename this from above, thus it is overwriting from the train\n",
        "\n",
        "# Bias %: Express bias as a percentage of the mean of the actual values\n",
        "bias_percentage = (bias / mean_actual) * 100\n",
        "\n",
        "# RMSE: Root Mean Squared Error\n",
        "rmse = np.sqrt((errors ** 2).mean())\n",
        "\n",
        "# RMSE %: Express RMSE as a percentage of the mean of the actual values\n",
        "rmse_percentage = (rmse / mean_actual) * 100\n",
        "\n",
        "# MAE: Mean Absolute Error\n",
        "mae = np.abs(errors).mean()\n",
        "\n",
        "# MAPE: Mean Absolute Percentage Error (ensure to avoid division by zero)\n",
        "mape = 100 * (np.abs(errors) / np.clip(np.abs(y_train), 1e-10, None)).mean()\n",
        "\n",
        "# R²: Coefficient of Determination\n",
        "ss_total = np.sum((y_train - mean_actual) ** 2)  # Total Sum of Squares\n",
        "ss_residual = np.sum(errors ** 2)  # Residual Sum of Squares\n",
        "r_squared = 1 - (ss_residual / ss_total)\n",
        "\n",
        "# R² %: Express R² as a percentage\n",
        "r_squared_percentage = r_squared * 100\n",
        "\n",
        "# MAD: Mean Absolute Deviation\n",
        "mad = np.mean(np.abs(y_train - mean_actual))\n",
        "\n",
        "# Print results\n",
        "print(f\"Bias:   {bias:.2f}\")\n",
        "print(f\"Bias %: {bias_percentage:.2f}%\")\n",
        "print(f\"RMSE:   {rmse:.2f}\")\n",
        "print(f\"RMSE %: {rmse_percentage:.2f}%\")\n",
        "print(f\"MAE:    {mae:.2f}\")\n",
        "print(f\"MAPE:   {mape:.2f}%\")\n",
        "print(f\"R²:     {r_squared:.2f}\")\n",
        "print(f\"R² %:   {r_squared_percentage:.2f}%\")\n",
        "print(f\"MAD:    {mad:.2f}\")\n",
        "\n",
        "# Analyze Positive vs Negative Values\n",
        "positive_bias = np.mean(errors[errors > 0])\n",
        "negative_bias = np.mean(errors[errors < 0])\n",
        "print(f\"\")\n",
        "print(f\"Positive Bias (Overestimation):   {positive_bias:.2f}\")\n",
        "print(f\"Negative Bias (Underestimation): {negative_bias:.2f}\")\n",
        "\n",
        "# Create the dynamic statement\n",
        "bias_statement = (f\"Positive/Negative Bias: The model tends to overestimate by ${positive_bias:.2f} \"\n",
        "                  f\"on average when it makes errors in the positive direction and underestimates by \"\n",
        "                  f\"${abs(negative_bias):.2f} when it makes errors in the negative direction.\")\n",
        "\n",
        "print(f\"\")\n",
        "# Print the result\n",
        "print(bias_statement)\n",
        "# RMSE\n",
        "rmse = np.sqrt((errors ** 2).mean())\n",
        "\n",
        "# MAE\n",
        "mae = np.abs(errors).mean()\n",
        "\n",
        "# MAPE (ensure to avoid division by zero)\n",
        "mape = 100 * (np.abs(errors) / np.clip(np.abs(y_train), 1e-10, None)).mean()"
      ],
      "metadata": {
        "colab": {
          "base_uri": "https://localhost:8080/"
        },
        "id": "QDTGba3ohFLp",
        "outputId": "b7407834-5cca-48c8-80c9-1989f10264ff"
      },
      "execution_count": 60,
      "outputs": [
        {
          "output_type": "stream",
          "name": "stdout",
          "text": [
            "Bias:   -0.00\n",
            "Bias %: -0.00%\n",
            "RMSE:   10686.02\n",
            "RMSE %: 57.43%\n",
            "MAE:    8174.22\n",
            "MAPE:   inf%\n",
            "R²:     0.21\n",
            "R² %:   20.52%\n",
            "MAD:    9353.28\n",
            "\n",
            "Positive Bias (Overestimation):   9445.24\n",
            "Negative Bias (Underestimation): -7204.70\n",
            "\n",
            "Positive/Negative Bias: The model tends to overestimate by $9445.24 on average when it makes errors in the positive direction and underestimates by $7204.70 when it makes errors in the negative direction.\n"
          ]
        },
        {
          "output_type": "stream",
          "name": "stderr",
          "text": [
            "/usr/local/lib/python3.10/dist-packages/numpy/core/fromnumeric.py:59: FutureWarning: Downcasting behavior in Series and DataFrame methods 'where', 'mask', and 'clip' is deprecated. In a future version this will not infer object dtypes or cast all-round floats to integers. Instead call result.infer_objects(copy=False) for object inference, or cast round floats explicitly. To opt-in to the future behavior, set `pd.set_option('future.no_silent_downcasting', True)`\n",
            "  return bound(*args, **kwds)\n",
            "/usr/local/lib/python3.10/dist-packages/numpy/core/fromnumeric.py:59: FutureWarning: Downcasting behavior in Series and DataFrame methods 'where', 'mask', and 'clip' is deprecated. In a future version this will not infer object dtypes or cast all-round floats to integers. Instead call result.infer_objects(copy=False) for object inference, or cast round floats explicitly. To opt-in to the future behavior, set `pd.set_option('future.no_silent_downcasting', True)`\n",
            "  return bound(*args, **kwds)\n"
          ]
        }
      ]
    },
    {
      "cell_type": "markdown",
      "source": [
        "#### **Applied Interpretation**\n",
        "\n",
        "Assume XYZ Computers uses a predictive model to estimate the price of its computers, with RAM as a key predictor. Based on the bias analysis:  \n",
        "*   When the model overestimates the price (positive bias), it does so by an average of 514.88. This means that when the model makes an error by overestimating, it predicts that a computer will cost $514.88 more than the actual price. For XZY Computers, this overestimation could lead to potential mispricing if the model is used to set or recommend prices, especially if customers perceive the predicted price as too high compared to similar configurations in the market.\n",
        "\n",
        "*   Conversely, when the model underestimates the price (negative bias), it does so by an average of 349.45. This underestimation suggests that, in some cases, the actual price of the computer is $349.45 higher than the model’s predicted price. If this underestimation becomes a trend, XYZ Commputers might risk underpricing certain models, potentially affecting profit margins or giving competitors an edge if XYZ's pricing appears inconsistent.\n",
        "\n",
        "\n",
        "\n",
        "    "
      ],
      "metadata": {
        "id": "5hu1Gc_FG05n"
      }
    },
    {
      "cell_type": "markdown",
      "source": [
        "#### **Applied Implications**\n",
        "\n",
        "*   Addressing Positive Bias: By reducing overestimations, XYZ can ensure more accurate price estimates, leading to price points that better reflect the value of configurations without overpricing due to inflated predictions.\n",
        "\n",
        "*   Mitigating Negative Bias: Minimizing underestimations is important to avoid setting prices that do not fully capture production costs or perceived value, helping to maintain profit margins and brand positioning in the premium segment.\n",
        "\n",
        "\n",
        "    \n",
        "    "
      ],
      "metadata": {
        "id": "gDDtI1QqJJCq"
      }
    },
    {
      "cell_type": "markdown",
      "source": [
        "### Test Data\n",
        "(Using Model Fit Parameters e.g., intercept/constant & coefficient/weight from ML)"
      ],
      "metadata": {
        "id": "B8hNWFwGSCD5"
      }
    },
    {
      "cell_type": "markdown",
      "source": [
        "#### Extract y_test_pred values"
      ],
      "metadata": {
        "id": "gCleuFBU-oqS"
      }
    },
    {
      "cell_type": "code",
      "source": [
        "X_test_const = sm.add_constant(X_test) # need to create a constant wrapper (I know it seems convaluted)\n",
        "y_test_pred = model.predict(X_test_const) # note, we are using the model coeffients and constant/intercept value from the fitted model above"
      ],
      "metadata": {
        "id": "0BxnHab-0L4c"
      },
      "execution_count": 57,
      "outputs": []
    },
    {
      "cell_type": "markdown",
      "source": [
        "<font color='orange'>Make note of above, a X_test_const object needed to be created with the constant wrapper attached, which has the X_test data being used on the training coeffients and constant of the training data model</font>"
      ],
      "metadata": {
        "id": "Tl3nBDrIpXYt"
      }
    },
    {
      "cell_type": "markdown",
      "source": [
        "#### Generate Fit Indicies"
      ],
      "metadata": {
        "id": "7jdxcW3RqHNp"
      }
    },
    {
      "cell_type": "code",
      "source": [
        "# load libraries if not already done\n",
        "import numpy as np\n",
        "\n",
        "# Mean of actual y_test values (not y_train values)\n",
        "mean_actual = np.mean(y_test)\n",
        "\n",
        "# Calculating errors\n",
        "errors = np.array(y_test) - np.array(y_test_pred) # actual minus predicted\n",
        "\n",
        "# Bias: The average difference between y_test predicted and y_test actual values\n",
        "bias = errors.mean() # careful I did not rename this from above, thus it is overwriting from the train\n",
        "\n",
        "# Bias %: Express bias as a percentage of the mean of the actual values\n",
        "bias_percentage = (bias / mean_actual) * 100\n",
        "\n",
        "# RMSE: Root Mean Squared Error\n",
        "rmse = np.sqrt((errors ** 2).mean())\n",
        "\n",
        "# RMSE %: Express RMSE as a percentage of the mean of the actual values\n",
        "rmse_percentage = (rmse / mean_actual) * 100\n",
        "\n",
        "# MAE: Mean Absolute Error\n",
        "mae = np.abs(errors).mean()\n",
        "\n",
        "# MAPE: Mean Absolute Percentage Error (ensure to avoid division by zero)\n",
        "mape = 100 * (np.abs(errors) / np.clip(np.abs(y_test), 1e-10, None)).mean()\n",
        "\n",
        "# R²: Coefficient of Determination\n",
        "ss_total = np.sum((y_test - mean_actual) ** 2)  # Total Sum of Squares\n",
        "ss_residual = np.sum(errors ** 2)  # Residual Sum of Squares\n",
        "r_squared = 1 - (ss_residual / ss_total)\n",
        "\n",
        "# R² %: Express R² as a percentage\n",
        "r_squared_percentage = r_squared * 100\n",
        "\n",
        "# MAD: Mean Absolute Deviation\n",
        "mad = np.mean(np.abs(y_test - mean_actual))\n",
        "\n",
        "# Print results\n",
        "print(f\"Bias:   {bias:.2f}\")\n",
        "print(f\"Bias %: {bias_percentage:.2f}%\")\n",
        "print(f\"RMSE:   {rmse:.2f}\")\n",
        "print(f\"RMSE %: {rmse_percentage:.2f}%\")\n",
        "print(f\"MAE:    {mae:.2f}\")\n",
        "print(f\"MAPE:   {mape:.2f}%\")\n",
        "print(f\"R²:     {r_squared:.2f}\")\n",
        "print(f\"R² %:   {r_squared_percentage:.2f}%\")\n",
        "print(f\"MAD:    {mad:.2f}\")\n",
        "\n",
        "# Analyze Positive vs Negative Values\n",
        "positive_bias = np.mean(errors[errors > 0])\n",
        "negative_bias = np.mean(errors[errors < 0])\n",
        "print(f\"\")\n",
        "print(f\"Positive Bias (Overestimation):   {positive_bias:.2f}\")\n",
        "print(f\"Negative Bias (Underestimation): {negative_bias:.2f}\")\n",
        "\n",
        "# Create the dynamic statement\n",
        "bias_statement = (f\"Positive/Negative Bias: The model tends to overestimate by ${positive_bias:.2f} \"\n",
        "                  f\"on average when it makes errors in the positive direction and underestimates by \"\n",
        "                  f\"${abs(negative_bias):.2f} when it makes errors in the negative direction.\")\n",
        "\n",
        "print(f\"\")\n",
        "# Print the result\n",
        "print(bias_statement)\n",
        "# RMSE\n",
        "rmse = np.sqrt((errors ** 2).mean())\n",
        "\n",
        "# MAE\n",
        "mae = np.abs(errors).mean()\n",
        "\n",
        "# MAPE (ensure to avoid division by zero)\n",
        "mape = 100 * (np.abs(errors) / np.clip(np.abs(y_test), 1e-10, None)).mean()"
      ],
      "metadata": {
        "colab": {
          "base_uri": "https://localhost:8080/"
        },
        "id": "mgITYT6i0XTf",
        "outputId": "6aaead6c-8e80-4b9d-eee8-4788804878fc"
      },
      "execution_count": 58,
      "outputs": [
        {
          "output_type": "stream",
          "name": "stdout",
          "text": [
            "Bias:   753.59\n",
            "Bias %: 3.88%\n",
            "RMSE:   11077.36\n",
            "RMSE %: 57.08%\n",
            "MAE:    8272.39\n",
            "MAPE:   inf%\n",
            "R²:     0.23\n",
            "R² %:   22.58%\n",
            "MAD:    9794.35\n",
            "\n",
            "Positive Bias (Overestimation):   9684.53\n",
            "Negative Bias (Underestimation): -7040.07\n",
            "\n",
            "Positive/Negative Bias: The model tends to overestimate by $9684.53 on average when it makes errors in the positive direction and underestimates by $7040.07 when it makes errors in the negative direction.\n"
          ]
        },
        {
          "output_type": "stream",
          "name": "stderr",
          "text": [
            "/usr/local/lib/python3.10/dist-packages/numpy/core/fromnumeric.py:59: FutureWarning: Downcasting behavior in Series and DataFrame methods 'where', 'mask', and 'clip' is deprecated. In a future version this will not infer object dtypes or cast all-round floats to integers. Instead call result.infer_objects(copy=False) for object inference, or cast round floats explicitly. To opt-in to the future behavior, set `pd.set_option('future.no_silent_downcasting', True)`\n",
            "  return bound(*args, **kwds)\n",
            "/usr/local/lib/python3.10/dist-packages/numpy/core/fromnumeric.py:59: FutureWarning: Downcasting behavior in Series and DataFrame methods 'where', 'mask', and 'clip' is deprecated. In a future version this will not infer object dtypes or cast all-round floats to integers. Instead call result.infer_objects(copy=False) for object inference, or cast round floats explicitly. To opt-in to the future behavior, set `pd.set_option('future.no_silent_downcasting', True)`\n",
            "  return bound(*args, **kwds)\n"
          ]
        }
      ]
    },
    {
      "cell_type": "markdown",
      "source": [
        "#### **Applied Interpretation**\n",
        "\n",
        "Assume XYZ Computers uses a predictive model to estimate the price of its computers, with RAM as a key predictor. Based on the bias analysis:  \n",
        "*   When the model overestimates the price (positive bias), it does so by an average of 514.88. This means that when the model makes an error by overestimating, it predicts that a computer will cost $590.61 more than the actual price. For XZY Computers, this overestimation could lead to potential mispricing if the model is used to set or recommend prices, especially if customers perceive the predicted price as too high compared to similar configurations in the market.\n",
        "\n",
        "*   Conversely, when the model underestimates the price (negative bias), it does so by an average of 388.35. This underestimation suggests that, in some cases, the actual price of the computer is $349.45 higher than the model’s predicted price. If this underestimation becomes a trend, XYZ Commputers might risk underpricing certain models, potentially affecting profit margins or giving competitors an edge if XYZ's pricing appears inconsistent.\n",
        "\n",
        "\n",
        "\n",
        "    "
      ],
      "metadata": {
        "id": "6T-i2T9rt-ur"
      }
    },
    {
      "cell_type": "markdown",
      "source": [
        "#### **Applied Implications**\n",
        "\n",
        "*Addressing Positive Bias:*\n",
        "\n",
        "*   The increased overestimation in testing data ($75.73 higher) suggests the model's positive bias is getting worse with new data.\n",
        "*   XYZ should investigate feature relationships and possible overfitting, as the larger testing error indicates degrading model performance.\n",
        "*   Consider retraining the model with more recent data or implementing regular model updates to maintain prediction accuracy.\n",
        "\n",
        "\n",
        "*Mitigating Negative Bias:*\n",
        "\n",
        "*   Training data showed underestimation of 349.45, while testing showed 388.35.\n",
        "*   The $38.90 increase in underestimation on testing data suggests a systematic bias that's growing.\n",
        "\n",
        "*Possible Recommendations for XYZ*\n",
        "\n",
        "1.   Implement a more robust validation strategy to catch drift in predictions.\n",
        "2.   Consider adding more features beyond RAM to capture value factors.\n",
        "1.   Set up monitoring systems to track prediction errors over time.\n",
        "2.   Establish thresholds for model retraining when bias exceeds acceptable levels.    "
      ],
      "metadata": {
        "id": "e0YiszciuMVw"
      }
    },
    {
      "cell_type": "markdown",
      "source": [
        "### **Where to go from here?**"
      ],
      "metadata": {
        "id": "cePPLT4Q7KFh"
      }
    },
    {
      "cell_type": "markdown",
      "source": [
        "Review the below document I made for you to evaluate and take steps on performance assessment between training and testing models.\n",
        "\n",
        "https://docs.google.com/document/d/1poNA17od8uUtPcybEc5XyhrGOMkZIDRf_H2i4AqjBOY/edit?usp=sharing"
      ],
      "metadata": {
        "id": "0dXu5lFNMfgQ"
      }
    },
    {
      "cell_type": "markdown",
      "source": [
        "## Deploying Linear Regression Model"
      ],
      "metadata": {
        "id": "OyfMBDg4L6Hz"
      }
    },
    {
      "cell_type": "markdown",
      "source": [
        "Assume you want to predict the price of a single computer with 16 Gigs of RAM."
      ],
      "metadata": {
        "id": "FSU0AWTLMFd-"
      }
    },
    {
      "cell_type": "markdown",
      "source": [
        "### Single X value"
      ],
      "metadata": {
        "id": "XaBNZy0zMbS4"
      }
    },
    {
      "cell_type": "code",
      "source": [
        "# Establish RAM_16 as DataFrame with a constant added\n",
        "RAM_16 = pd.DataFrame({'const': [1], 'RAM': [16], 'Miles': [11]})\n",
        "\n",
        "# Use the model to predict\n",
        "Predicted_Price = model.predict(RAM_16)\n",
        "print(f\"Predicted y (Price) for a computer with a RAM of 16: ${round(Predicted_Price[0], 2)}\")"
      ],
      "metadata": {
        "colab": {
          "base_uri": "https://localhost:8080/"
        },
        "id": "MjUGxeHo0wj2",
        "outputId": "a780b553-0f74-4841-becf-80ecf6645d2a"
      },
      "execution_count": null,
      "outputs": [
        {
          "output_type": "stream",
          "name": "stdout",
          "text": [
            "Predicted y (Price) for a computer with a RAM of 16: $1345.78\n"
          ]
        }
      ]
    },
    {
      "cell_type": "markdown",
      "source": [
        "### Several Single X values"
      ],
      "metadata": {
        "id": "gKOfXhEaQwBH"
      }
    },
    {
      "cell_type": "markdown",
      "source": [
        "Assume you want to predict the price of three different computers with 8, 16, and 32 Gigs of RAM."
      ],
      "metadata": {
        "id": "Wb9KhOVgNwGx"
      }
    },
    {
      "cell_type": "code",
      "source": [
        "# Create a DataFrame for multiple RAM values (8, 16, 32) with a constant added\n",
        "RAM_8_16_32 = pd.DataFrame({\n",
        "    'const': [1, 1, 1],  # Adding a constant column with value 1 for each entry\n",
        "    'RAM': [8, 16, 32]\n",
        "})\n",
        "\n",
        "# Use the model to predict for each RAM value\n",
        "Predicted_Prices = model.predict(RAM_8_16_32)\n",
        "\n",
        "# Print the predicted prices\n",
        "print(f\"Predicted y (Price) for a computer with a RAM of 8:  ${round(Predicted_Prices[0], 2)}\")\n",
        "print(f\"Predicted y (Price) for a computer with a RAM of 16: ${round(Predicted_Prices[1], 2)}\")\n",
        "print(f\"Predicted y (Price) for a computer with a RAM of 32: ${round(Predicted_Prices[2], 2)}\")"
      ],
      "metadata": {
        "colab": {
          "base_uri": "https://localhost:8080/"
        },
        "id": "UZtmHWsXNVFY",
        "outputId": "7a81e4d1-9428-4d1f-afdb-0fada650c6a1"
      },
      "execution_count": null,
      "outputs": [
        {
          "output_type": "stream",
          "name": "stdout",
          "text": [
            "Predicted y (Price) for a computer with a RAM of 8:  $796.82\n",
            "Predicted y (Price) for a computer with a RAM of 16: $1345.78\n",
            "Predicted y (Price) for a computer with a RAM of 32: $2443.68\n"
          ]
        }
      ]
    }
  ]
}